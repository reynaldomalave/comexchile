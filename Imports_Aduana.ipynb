{
 "cells": [
  {
   "cell_type": "code",
   "execution_count": 1,
   "metadata": {},
   "outputs": [],
   "source": [
    "import pandas as pd\n",
    "import numpy as np\n",
    "import requests, os\n",
    "import http.client"
   ]
  },
  {
   "cell_type": "markdown",
   "metadata": {},
   "source": [
    "# Importar Archivo de Excel desde Aduana.cl"
   ]
  },
  {
   "cell_type": "code",
   "execution_count": 2,
   "metadata": {},
   "outputs": [],
   "source": [
    "http.client.HTTPConnection._http_vsn = 10\n",
    "http.client.HTTPConnection._http_vsn_str = 'HTTP/1.0'\n",
    "\n",
    "url=\"https://www.aduana.cl/aduana/site/docs/20181214/20181214093028/impo_pais_sa_monto_09062020.xlsx\"\n",
    "\n",
    "resp = requests.get(url)\n",
    "with open('imports2020.xlsx', 'wb') as output:\n",
    "    output.write(resp.content)"
   ]
  },
  {
   "cell_type": "markdown",
   "metadata": {},
   "source": [
    "# Leer el archivo desde la ubicación de descarga"
   ]
  },
  {
   "cell_type": "code",
   "execution_count": 3,
   "metadata": {},
   "outputs": [],
   "source": [
    "#Debe ingresar el directorio donde se descargo el archivo\n",
    "imports = pd.read_excel(r'C:\\Users\\rey\\Downloads\\DAT256x\\Module01\\imports2020.xlsx')"
   ]
  },
  {
   "cell_type": "markdown",
   "metadata": {},
   "source": [
    "# Quitar filas y columnas no deseadas"
   ]
  },
  {
   "cell_type": "code",
   "execution_count": 4,
   "metadata": {},
   "outputs": [],
   "source": [
    "imports = imports.drop(\"Unnamed: 0\",axis=1)\n",
    "imports = imports.drop(\"Unnamed: 7\",axis=1)\n",
    "imports.columns = imports.iloc[2]\n",
    "imports = imports.drop([0,1,2])"
   ]
  },
  {
   "cell_type": "code",
   "execution_count": 5,
   "metadata": {
    "scrolled": false
   },
   "outputs": [
    {
     "data": {
      "text/html": [
       "<div>\n",
       "<style scoped>\n",
       "    .dataframe tbody tr th:only-of-type {\n",
       "        vertical-align: middle;\n",
       "    }\n",
       "\n",
       "    .dataframe tbody tr th {\n",
       "        vertical-align: top;\n",
       "    }\n",
       "\n",
       "    .dataframe thead th {\n",
       "        text-align: right;\n",
       "    }\n",
       "</style>\n",
       "<table border=\"1\" class=\"dataframe\">\n",
       "  <thead>\n",
       "    <tr style=\"text-align: right;\">\n",
       "      <th>2</th>\n",
       "      <th>Pais / Código Arancelario</th>\n",
       "      <th>Enero - 2020</th>\n",
       "      <th>Febrero - 2020</th>\n",
       "      <th>Marzo - 2020</th>\n",
       "      <th>Abril -2020</th>\n",
       "      <th>Mayo -2020</th>\n",
       "    </tr>\n",
       "  </thead>\n",
       "  <tbody>\n",
       "    <tr>\n",
       "      <th>3</th>\n",
       "      <td>Afghanistán</td>\n",
       "      <td>0</td>\n",
       "      <td>117.64</td>\n",
       "      <td>7105.42</td>\n",
       "      <td>0</td>\n",
       "      <td>0</td>\n",
       "    </tr>\n",
       "    <tr>\n",
       "      <th>4</th>\n",
       "      <td>39023000</td>\n",
       "      <td>0</td>\n",
       "      <td>0</td>\n",
       "      <td>7105.42</td>\n",
       "      <td>0</td>\n",
       "      <td>0</td>\n",
       "    </tr>\n",
       "    <tr>\n",
       "      <th>5</th>\n",
       "      <td>87149990</td>\n",
       "      <td>0</td>\n",
       "      <td>117.64</td>\n",
       "      <td>0</td>\n",
       "      <td>0</td>\n",
       "      <td>0</td>\n",
       "    </tr>\n",
       "    <tr>\n",
       "      <th>6</th>\n",
       "      <td>Albania</td>\n",
       "      <td>7922.41</td>\n",
       "      <td>19717.1</td>\n",
       "      <td>38627.8</td>\n",
       "      <td>2880</td>\n",
       "      <td>505.45</td>\n",
       "    </tr>\n",
       "    <tr>\n",
       "      <th>7</th>\n",
       "      <td>40169390</td>\n",
       "      <td>0</td>\n",
       "      <td>0</td>\n",
       "      <td>919.24</td>\n",
       "      <td>0</td>\n",
       "      <td>0</td>\n",
       "    </tr>\n",
       "  </tbody>\n",
       "</table>\n",
       "</div>"
      ],
      "text/plain": [
       "2 Pais / Código Arancelario Enero - 2020 Febrero - 2020 Marzo - 2020  \\\n",
       "3               Afghanistán            0         117.64      7105.42   \n",
       "4                  39023000            0              0      7105.42   \n",
       "5                  87149990            0         117.64            0   \n",
       "6                   Albania      7922.41        19717.1      38627.8   \n",
       "7                  40169390            0              0       919.24   \n",
       "\n",
       "2 Abril -2020 Mayo -2020  \n",
       "3           0          0  \n",
       "4           0          0  \n",
       "5           0          0  \n",
       "6        2880     505.45  \n",
       "7           0          0  "
      ]
     },
     "execution_count": 5,
     "metadata": {},
     "output_type": "execute_result"
    }
   ],
   "source": [
    "imports.head()"
   ]
  },
  {
   "cell_type": "markdown",
   "metadata": {},
   "source": [
    "# Renombrar columnas de fechas"
   ]
  },
  {
   "cell_type": "code",
   "execution_count": 6,
   "metadata": {},
   "outputs": [],
   "source": [
    "imports.rename(columns={'Enero - 2020':'Jan-2020',\n",
    "                          'Febrero - 2020':'Feb-2020',\n",
    "                          'Marzo - 2020':'Mar-2020',\n",
    "                           \"Abril -2020\":\"Apr-2020\",\n",
    "                           \"Mayo -2020\":\"May-2020\"},\n",
    "                           \n",
    "                 inplace=True)"
   ]
  },
  {
   "cell_type": "code",
   "execution_count": 7,
   "metadata": {
    "scrolled": true
   },
   "outputs": [
    {
     "data": {
      "text/html": [
       "<div>\n",
       "<style scoped>\n",
       "    .dataframe tbody tr th:only-of-type {\n",
       "        vertical-align: middle;\n",
       "    }\n",
       "\n",
       "    .dataframe tbody tr th {\n",
       "        vertical-align: top;\n",
       "    }\n",
       "\n",
       "    .dataframe thead th {\n",
       "        text-align: right;\n",
       "    }\n",
       "</style>\n",
       "<table border=\"1\" class=\"dataframe\">\n",
       "  <thead>\n",
       "    <tr style=\"text-align: right;\">\n",
       "      <th>2</th>\n",
       "      <th>Pais / Código Arancelario</th>\n",
       "      <th>Jan-2020</th>\n",
       "      <th>Feb-2020</th>\n",
       "      <th>Mar-2020</th>\n",
       "      <th>Apr-2020</th>\n",
       "      <th>May-2020</th>\n",
       "    </tr>\n",
       "  </thead>\n",
       "  <tbody>\n",
       "    <tr>\n",
       "      <th>3</th>\n",
       "      <td>Afghanistán</td>\n",
       "      <td>0</td>\n",
       "      <td>117.64</td>\n",
       "      <td>7105.42</td>\n",
       "      <td>0</td>\n",
       "      <td>0</td>\n",
       "    </tr>\n",
       "    <tr>\n",
       "      <th>4</th>\n",
       "      <td>39023000</td>\n",
       "      <td>0</td>\n",
       "      <td>0</td>\n",
       "      <td>7105.42</td>\n",
       "      <td>0</td>\n",
       "      <td>0</td>\n",
       "    </tr>\n",
       "    <tr>\n",
       "      <th>5</th>\n",
       "      <td>87149990</td>\n",
       "      <td>0</td>\n",
       "      <td>117.64</td>\n",
       "      <td>0</td>\n",
       "      <td>0</td>\n",
       "      <td>0</td>\n",
       "    </tr>\n",
       "    <tr>\n",
       "      <th>6</th>\n",
       "      <td>Albania</td>\n",
       "      <td>7922.41</td>\n",
       "      <td>19717.1</td>\n",
       "      <td>38627.8</td>\n",
       "      <td>2880</td>\n",
       "      <td>505.45</td>\n",
       "    </tr>\n",
       "    <tr>\n",
       "      <th>7</th>\n",
       "      <td>40169390</td>\n",
       "      <td>0</td>\n",
       "      <td>0</td>\n",
       "      <td>919.24</td>\n",
       "      <td>0</td>\n",
       "      <td>0</td>\n",
       "    </tr>\n",
       "  </tbody>\n",
       "</table>\n",
       "</div>"
      ],
      "text/plain": [
       "2 Pais / Código Arancelario Jan-2020 Feb-2020 Mar-2020 Apr-2020 May-2020\n",
       "3               Afghanistán        0   117.64  7105.42        0        0\n",
       "4                  39023000        0        0  7105.42        0        0\n",
       "5                  87149990        0   117.64        0        0        0\n",
       "6                   Albania  7922.41  19717.1  38627.8     2880   505.45\n",
       "7                  40169390        0        0   919.24        0        0"
      ]
     },
     "execution_count": 7,
     "metadata": {},
     "output_type": "execute_result"
    }
   ],
   "source": [
    "imports.head()"
   ]
  },
  {
   "cell_type": "markdown",
   "metadata": {},
   "source": [
    "# Hacer modificaciones al DataFrame"
   ]
  },
  {
   "cell_type": "code",
   "execution_count": 10,
   "metadata": {},
   "outputs": [],
   "source": [
    "def convertir_serie_tiempo (df):\n",
    "    \n",
    "    #Esta función admite las columnas: [\"Pais / Código Anrancelario\", fecha en formato \"mon-yr\" en ingles\n",
    "    \n",
    "    #Crear la columna temporal \"codigo_arancelario_temp\" para retirar los espacios en el nombre de la columna \"Pais / Código Arancelario\" \n",
    "    \n",
    "    df[\"codigo_arancelario_temp\"]= df[\"Pais / Código Arancelario\"]\n",
    "    \n",
    "    df = df.drop(\"Pais / Código Arancelario\", axis=1)\n",
    "          \n",
    "    #Quitar los NaN de la columna \"codigo_arancelario\n",
    "\n",
    "    df = df.dropna(subset=[\"codigo_arancelario_temp\"])\n",
    "          \n",
    "    #Crear la columna pais separando los valores con letras de los valores numericos y hacer el fill hacia abajo\n",
    "\n",
    "    df[\"pais\"] = df.codigo_arancelario_temp.str.extract('([a-zA-Z]+)', expand=True).ffill(axis=0)\n",
    "\n",
    "    #Crear la columna codigo_arancelario y retirar los NaN\n",
    "\n",
    "    df[\"codigo_arancelario\"] = df.codigo_arancelario_temp.str.extract('([0-9]+)', expand=True)\n",
    "    df =df.dropna(subset=[\"codigo_arancelario\"])\n",
    "\n",
    "    #Hacer Unpivot en columnas de tiempo\n",
    "\n",
    "    df = df.drop([\"codigo_arancelario_temp\"], axis=1).melt(id_vars=['pais',\"codigo_arancelario\"], var_name='date', value_name='USD')\n",
    "\n",
    "    #Quitar las filas con valor 0 en USD\n",
    "     \n",
    "    df = df[df.USD != 0]\n",
    "    \n",
    "    #Convertir date en datetime\n",
    "    \n",
    "    df[\"date\"]=pd.to_datetime(df[\"date\"])\n",
    "    \n",
    "    #Hacer la columna \"date\" en index\n",
    "    \n",
    "    df.set_index(\"date\", inplace= True)\n",
    "    \n",
    "    return(df)"
   ]
  },
  {
   "cell_type": "code",
   "execution_count": 13,
   "metadata": {},
   "outputs": [],
   "source": [
    "imports = convertir_serie_tiempo (imports)"
   ]
  },
  {
   "cell_type": "code",
   "execution_count": 14,
   "metadata": {
    "scrolled": true
   },
   "outputs": [
    {
     "data": {
      "text/html": [
       "<div>\n",
       "<style scoped>\n",
       "    .dataframe tbody tr th:only-of-type {\n",
       "        vertical-align: middle;\n",
       "    }\n",
       "\n",
       "    .dataframe tbody tr th {\n",
       "        vertical-align: top;\n",
       "    }\n",
       "\n",
       "    .dataframe thead th {\n",
       "        text-align: right;\n",
       "    }\n",
       "</style>\n",
       "<table border=\"1\" class=\"dataframe\">\n",
       "  <thead>\n",
       "    <tr style=\"text-align: right;\">\n",
       "      <th></th>\n",
       "      <th>pais</th>\n",
       "      <th>codigo_arancelario</th>\n",
       "      <th>USD</th>\n",
       "    </tr>\n",
       "    <tr>\n",
       "      <th>date</th>\n",
       "      <th></th>\n",
       "      <th></th>\n",
       "      <th></th>\n",
       "    </tr>\n",
       "  </thead>\n",
       "  <tbody>\n",
       "    <tr>\n",
       "      <th>2020-01-01</th>\n",
       "      <td>Albania</td>\n",
       "      <td>61062000</td>\n",
       "      <td>716.32</td>\n",
       "    </tr>\n",
       "    <tr>\n",
       "      <th>2020-01-01</th>\n",
       "      <td>Albania</td>\n",
       "      <td>62034900</td>\n",
       "      <td>167.9</td>\n",
       "    </tr>\n",
       "    <tr>\n",
       "      <th>2020-01-01</th>\n",
       "      <td>Albania</td>\n",
       "      <td>62044300</td>\n",
       "      <td>1540.32</td>\n",
       "    </tr>\n",
       "    <tr>\n",
       "      <th>2020-01-01</th>\n",
       "      <td>Albania</td>\n",
       "      <td>62046311</td>\n",
       "      <td>582.89</td>\n",
       "    </tr>\n",
       "    <tr>\n",
       "      <th>2020-01-01</th>\n",
       "      <td>Albania</td>\n",
       "      <td>62104000</td>\n",
       "      <td>4914.98</td>\n",
       "    </tr>\n",
       "    <tr>\n",
       "      <th>...</th>\n",
       "      <td>...</td>\n",
       "      <td>...</td>\n",
       "      <td>...</td>\n",
       "    </tr>\n",
       "    <tr>\n",
       "      <th>2020-05-01</th>\n",
       "      <td>Vietnam</td>\n",
       "      <td>96082020</td>\n",
       "      <td>315.58</td>\n",
       "    </tr>\n",
       "    <tr>\n",
       "      <th>2020-05-01</th>\n",
       "      <td>Vietnam</td>\n",
       "      <td>96099000</td>\n",
       "      <td>138.75</td>\n",
       "    </tr>\n",
       "    <tr>\n",
       "      <th>2020-05-01</th>\n",
       "      <td>Vietnam</td>\n",
       "      <td>96151100</td>\n",
       "      <td>2317.15</td>\n",
       "    </tr>\n",
       "    <tr>\n",
       "      <th>2020-05-01</th>\n",
       "      <td>Vietnam</td>\n",
       "      <td>96151900</td>\n",
       "      <td>197.48</td>\n",
       "    </tr>\n",
       "    <tr>\n",
       "      <th>2020-05-01</th>\n",
       "      <td>Vietnam</td>\n",
       "      <td>96190090</td>\n",
       "      <td>158463</td>\n",
       "    </tr>\n",
       "  </tbody>\n",
       "</table>\n",
       "<p>164900 rows × 3 columns</p>\n",
       "</div>"
      ],
      "text/plain": [
       "               pais codigo_arancelario      USD\n",
       "date                                           \n",
       "2020-01-01  Albania           61062000   716.32\n",
       "2020-01-01  Albania           62034900    167.9\n",
       "2020-01-01  Albania           62044300  1540.32\n",
       "2020-01-01  Albania           62046311   582.89\n",
       "2020-01-01  Albania           62104000  4914.98\n",
       "...             ...                ...      ...\n",
       "2020-05-01  Vietnam           96082020   315.58\n",
       "2020-05-01  Vietnam           96099000   138.75\n",
       "2020-05-01  Vietnam           96151100  2317.15\n",
       "2020-05-01  Vietnam           96151900   197.48\n",
       "2020-05-01  Vietnam           96190090   158463\n",
       "\n",
       "[164900 rows x 3 columns]"
      ]
     },
     "execution_count": 14,
     "metadata": {},
     "output_type": "execute_result"
    }
   ],
   "source": [
    "imports"
   ]
  }
 ],
 "metadata": {
  "kernelspec": {
   "display_name": "Python 3",
   "language": "python",
   "name": "python3"
  },
  "language_info": {
   "codemirror_mode": {
    "name": "ipython",
    "version": 3
   },
   "file_extension": ".py",
   "mimetype": "text/x-python",
   "name": "python",
   "nbconvert_exporter": "python",
   "pygments_lexer": "ipython3",
   "version": "3.7.6"
  }
 },
 "nbformat": 4,
 "nbformat_minor": 4
}
